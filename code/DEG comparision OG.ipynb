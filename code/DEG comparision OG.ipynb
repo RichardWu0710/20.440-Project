{
 "cells": [
  {
   "cell_type": "code",
   "execution_count": 1,
   "metadata": {},
   "outputs": [],
   "source": [
    "import pandas as pd\n",
    "import scipy as sp\n",
    "from pylab import *\n",
    "import numpy as np\n",
    "from matplotlib import pyplot as plt\n",
    "import networkx as nx\n",
    "import seaborn as sns\n",
    "import collections\n",
    "from IPython.display import clear_output\n",
    "import random\n",
    "import seaborn as sns"
   ]
  },
  {
   "cell_type": "code",
   "execution_count": 2,
   "metadata": {},
   "outputs": [],
   "source": [
    "df = pd.read_csv('result.csv')"
   ]
  },
  {
   "cell_type": "code",
   "execution_count": 3,
   "metadata": {},
   "outputs": [],
   "source": [
    "#df = df.sort_values(by=['p.value'])\n",
    "#df = df.reset_index()\n",
    "sig_ind = df.index[df['P.Value'] < 0.05].tolist()"
   ]
  },
  {
   "cell_type": "code",
   "execution_count": 4,
   "metadata": {},
   "outputs": [
    {
     "name": "stdout",
     "output_type": "stream",
     "text": [
      "72\n"
     ]
    }
   ],
   "source": [
    "sig_gene = df.loc[sig_ind,'Unnamed: 0'].tolist()\n",
    "print(len(sig_gene))"
   ]
  },
  {
   "cell_type": "code",
   "execution_count": 5,
   "metadata": {},
   "outputs": [],
   "source": [
    "df_ref = pd.read_excel('ref_male_DEG.xlsx')"
   ]
  },
  {
   "cell_type": "code",
   "execution_count": 6,
   "metadata": {},
   "outputs": [],
   "source": [
    "ref_ind = df_ref.index[df_ref['Brain Region'] =='Anterior Insula'].tolist()"
   ]
  },
  {
   "cell_type": "code",
   "execution_count": 7,
   "metadata": {},
   "outputs": [],
   "source": [
    "ref_gene = df_ref.loc[ref_ind,'ENSG'].tolist()"
   ]
  },
  {
   "cell_type": "code",
   "execution_count": 8,
   "metadata": {},
   "outputs": [
    {
     "data": {
      "text/plain": [
       "4"
      ]
     },
     "execution_count": 8,
     "metadata": {},
     "output_type": "execute_result"
    }
   ],
   "source": [
    "len(list(set(ref_gene) & set(sig_gene)))"
   ]
  },
  {
   "cell_type": "code",
   "execution_count": 9,
   "metadata": {},
   "outputs": [],
   "source": [
    "df = pd.read_csv('collect.csv',index_col=1)\n",
    "del df['Unnamed: 0']"
   ]
  },
  {
   "cell_type": "code",
   "execution_count": 10,
   "metadata": {},
   "outputs": [],
   "source": [
    "countlist = df.sum(axis = 1,numeric_only=True)"
   ]
  },
  {
   "cell_type": "code",
   "execution_count": 11,
   "metadata": {},
   "outputs": [
    {
     "data": {
      "text/plain": [
       "name\n",
       "ENSG00000180616    724.0\n",
       "ENSG00000175426    699.0\n",
       "ENSG00000199436    609.0\n",
       "ENSG00000139318    429.0\n",
       "ENSG00000172137    387.0\n",
       "ENSG00000200243    368.0\n",
       "ENSG00000201557    336.0\n",
       "ENSG00000135324    306.0\n",
       "ENSG00000204389    299.0\n",
       "ENSG00000200726    291.0\n",
       "ENSG00000197061    264.0\n",
       "ENSG00000201136    260.0\n",
       "ENSG00000200564    246.0\n",
       "ENSG00000200087    244.0\n",
       "ENSG00000199970    242.0\n",
       "ENSG00000124134    238.0\n",
       "ENSG00000111262    230.0\n",
       "ENSG00000071575    225.0\n",
       "ENSG00000005108    225.0\n",
       "ENSG00000164326    219.0\n",
       "ENSG00000104327    211.0\n",
       "ENSG00000157502    199.0\n",
       "ENSG00000200680    190.0\n",
       "ENSG00000166086    189.0\n",
       "ENSG00000100271    189.0\n",
       "ENSG00000154096    188.0\n",
       "ENSG00000202270    187.0\n",
       "ENSG00000106236    183.0\n",
       "ENSG00000201300    181.0\n",
       "ENSG00000199575    180.0\n",
       "                   ...  \n",
       "ENSG00000180205      0.0\n",
       "ENSG00000180209      0.0\n",
       "ENSG00000180210      0.0\n",
       "ENSG00000180211      0.0\n",
       "ENSG00000180219      0.0\n",
       "ENSG00000180221      0.0\n",
       "ENSG00000180228      0.0\n",
       "ENSG00000180229      0.0\n",
       "ENSG00000180150      0.0\n",
       "ENSG00000180138      0.0\n",
       "ENSG00000180035      0.0\n",
       "ENSG00000180116      0.0\n",
       "ENSG00000180042      0.0\n",
       "ENSG00000180043      0.0\n",
       "ENSG00000180044      0.0\n",
       "ENSG00000180053      0.0\n",
       "ENSG00000180061      0.0\n",
       "ENSG00000180066      0.0\n",
       "ENSG00000180068      0.0\n",
       "ENSG00000180071      0.0\n",
       "ENSG00000180081      0.0\n",
       "ENSG00000180083      0.0\n",
       "ENSG00000180089      0.0\n",
       "ENSG00000180090      0.0\n",
       "ENSG00000180096      0.0\n",
       "ENSG00000180098      0.0\n",
       "ENSG00000180104      0.0\n",
       "ENSG00000180105      0.0\n",
       "ENSG00000180113      0.0\n",
       "ENSG00000000003      0.0\n",
       "Length: 22770, dtype: float64"
      ]
     },
     "execution_count": 11,
     "metadata": {},
     "output_type": "execute_result"
    }
   ],
   "source": [
    "countlist.sort_values(ascending = False)"
   ]
  },
  {
   "cell_type": "code",
   "execution_count": 12,
   "metadata": {},
   "outputs": [
    {
     "data": {
      "image/png": "[encoded data removed]",
      "text/plain": [
       "<Figure size 432x288 with 1 Axes>"
      ]
     },
     "metadata": {
      "needs_background": "light"
     },
     "output_type": "display_data"
    }
   ],
   "source": [
    "numDEGlist = df.sum(axis = 0,numeric_only=True)\n",
    "ax1 = numDEGlist.hist(bins=50)\n",
    "ax1.set_xlabel('Number of DEGs generated per permuation')\n",
    "ax1.set_title('Male_only anterior insula DEG')\n",
    "ax1.grid(b=None)"
   ]
  },
  {
   "cell_type": "code",
   "execution_count": 31,
   "metadata": {},
   "outputs": [
    {
     "data": {
      "image/png": "[encoded data removed]",
      "text/plain": [
       "<Figure size 432x288 with 1 Axes>"
      ]
     },
     "metadata": {
      "needs_background": "light"
     },
     "output_type": "display_data"
    }
   ],
   "source": [
    "sig_gene_list = countlist[countlist>0]/1000\n",
    "ax2 = sig_gene_list.hist(bins=100)\n",
    "ax2.set_xlabel('Frequency of appearance in 1000 permuations')\n",
    "ax2.set_title('Male_only anterior insula DEG')\n",
    "ax2.grid(b=None)\n"
   ]
  },
  {
   "cell_type": "code",
   "execution_count": 30,
   "metadata": {},
   "outputs": [
    {
     "name": "stderr",
     "output_type": "stream",
     "text": [
      "C:\\Users\\weida\\Anaconda3\\lib\\site-packages\\scipy\\stats\\stats.py:1713: FutureWarning: Using a non-tuple sequence for multidimensional indexing is deprecated; use `arr[tuple(seq)]` instead of `arr[seq]`. In the future this will be interpreted as an array index, `arr[np.array(seq)]`, which will result either in an error or a different result.\n",
      "  return np.add.reduce(sorted[indexer] * weights, axis=axis) / sumval\n"
     ]
    },
    {
     "data": {
      "text/plain": [
       "Text(0, 0.5, 'Density')"
      ]
     },
     "execution_count": 30,
     "metadata": {},
     "output_type": "execute_result"
    },
    {
     "data": {
      "image/png": "[encoded data removed]",
      "text/plain": [
       "<Figure size 432x288 with 1 Axes>"
      ]
     },
     "metadata": {
      "needs_background": "light"
     },
     "output_type": "display_data"
    }
   ],
   "source": [
    "ax3 = sns.distplot(numDEGlist, hist = False, kde = True,\n",
    "                 kde_kws = {'shade': True, 'linewidth': 2})\n",
    "ax3.set_xlabel('Number of DEGs generated per permuation')\n",
    "ax3.set_title('Male_only anterior insula DEG')\n",
    "ax3.set_ylabel('Density')"
   ]
  },
  {
   "cell_type": "code",
   "execution_count": 32,
   "metadata": {},
   "outputs": [
    {
     "data": {
      "text/plain": [
       "Text(0.5, 1.0, 'Male_only anterior insula DEG')"
      ]
     },
     "execution_count": 32,
     "metadata": {},
     "output_type": "execute_result"
    },
    {
     "data": {
      "image/png": "[encoded data removed]",
      "text/plain": [
       "<Figure size 432x288 with 1 Axes>"
      ]
     },
     "metadata": {
      "needs_background": "light"
     },
     "output_type": "display_data"
    }
   ],
   "source": [
    "ax4 = sns.distplot(sig_gene_list, hist = False, kde = True,\n",
    "                 kde_kws = {'shade': True, 'linewidth': 2})\n",
    "ax4.set_xlabel('Frequency of appearance in 1000 permuations')\n",
    "ax4.set_ylabel('Density')\n",
    "ax4.set_title('Male_only anterior insula DEG')"
   ]
  },
  {
   "cell_type": "code",
   "execution_count": 156,
   "metadata": {},
   "outputs": [
    {
     "data": {
      "text/plain": [
       "8"
      ]
     },
     "execution_count": 156,
     "metadata": {},
     "output_type": "execute_result"
    }
   ],
   "source": [
    "most_sig_gene = countlist[countlist>300]\n",
    "len(most_sig_gene)"
   ]
  },
  {
   "cell_type": "code",
   "execution_count": 157,
   "metadata": {},
   "outputs": [
    {
     "data": {
      "text/plain": [
       "3"
      ]
     },
     "execution_count": 157,
     "metadata": {},
     "output_type": "execute_result"
    }
   ],
   "source": [
    "sig_gene = most_sig_gene.index.tolist()\n",
    "len(list(set(ref_gene) & set(sig_gene)))"
   ]
  },
  {
   "cell_type": "code",
   "execution_count": 23,
   "metadata": {},
   "outputs": [
    {
     "data": {
      "text/plain": [
       "name\n",
       "ENSG00000000419    0.003\n",
       "ENSG00000001461    0.008\n",
       "ENSG00000001561    0.036\n",
       "ENSG00000001631    0.002\n",
       "ENSG00000003056    0.010\n",
       "ENSG00000003147    0.001\n",
       "ENSG00000004766    0.003\n",
       "ENSG00000004799    0.028\n",
       "ENSG00000004897    0.001\n",
       "ENSG00000005108    0.225\n",
       "ENSG00000005249    0.001\n",
       "ENSG00000005339    0.006\n",
       "ENSG00000005379    0.017\n",
       "ENSG00000005486    0.003\n",
       "ENSG00000005700    0.002\n",
       "ENSG00000005812    0.003\n",
       "ENSG00000005893    0.008\n",
       "ENSG00000006007    0.003\n",
       "ENSG00000006128    0.031\n",
       "ENSG00000006468    0.057\n",
       "ENSG00000006625    0.002\n",
       "ENSG00000006652    0.111\n",
       "ENSG00000006715    0.012\n",
       "ENSG00000006831    0.061\n",
       "ENSG00000007168    0.003\n",
       "ENSG00000007516    0.008\n",
       "ENSG00000007520    0.015\n",
       "ENSG00000007944    0.113\n",
       "ENSG00000008018    0.001\n",
       "ENSG00000008056    0.024\n",
       "                   ...  \n",
       "ENSG00000207863    0.006\n",
       "ENSG00000208772    0.017\n",
       "ENSG00000208892    0.027\n",
       "ENSG00000209082    0.092\n",
       "ENSG00000209702    0.027\n",
       "ENSG00000210049    0.016\n",
       "ENSG00000210077    0.025\n",
       "ENSG00000210082    0.005\n",
       "ENSG00000210112    0.030\n",
       "ENSG00000210144    0.002\n",
       "ENSG00000210195    0.129\n",
       "ENSG00000210196    0.005\n",
       "ENSG00000211448    0.013\n",
       "ENSG00000211455    0.004\n",
       "ENSG00000211456    0.001\n",
       "ENSG00000211459    0.115\n",
       "ENSG00000211574    0.011\n",
       "ENSG00000211984    0.033\n",
       "ENSG00000212027    0.012\n",
       "ENSG00000212232    0.006\n",
       "ENSG00000212257    0.016\n",
       "ENSG00000212293    0.004\n",
       "ENSG00000212304    0.022\n",
       "ENSG00000212329    0.020\n",
       "ENSG00000212370    0.005\n",
       "ENSG00000212380    0.006\n",
       "ENSG00000212384    0.014\n",
       "ENSG00000212402    0.004\n",
       "ENSG00000212464    0.003\n",
       "ENSG00000212482    0.031\n",
       "Length: 3010, dtype: float64"
      ]
     },
     "execution_count": 23,
     "metadata": {},
     "output_type": "execute_result"
    }
   ],
   "source": [
    "sig_gene_list"
   ]
  },
  {
   "cell_type": "code",
   "execution_count": null,
   "metadata": {},
   "outputs": [],
   "source": []
  }
 ],
 "metadata": {
  "kernelspec": {
   "display_name": "Python 3",
   "language": "python",
   "name": "python3"
  },
  "language_info": {
   "codemirror_mode": {
    "name": "ipython",
    "version": 3
   },
   "file_extension": ".py",
   "mimetype": "text/x-python",
   "name": "python",
   "nbconvert_exporter": "python",
   "pygments_lexer": "ipython3",
   "version": "3.7.1"
  }
 },
 "nbformat": 4,
 "nbformat_minor": 2
}
