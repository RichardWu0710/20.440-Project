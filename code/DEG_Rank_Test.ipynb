{
 "cells": [
  {
   "cell_type": "code",
   "execution_count": 1,
   "metadata": {},
   "outputs": [],
   "source": [
    "import pandas as pd\n",
    "import scipy as sp\n",
    "from pylab import *\n",
    "import numpy as np\n",
    "from matplotlib import pyplot as plt\n",
    "import networkx as nx\n",
    "import seaborn as sns\n",
    "import collections\n",
    "from IPython.display import clear_output\n",
    "import random\n",
    "import seaborn as sns"
   ]
  },
  {
   "cell_type": "code",
   "execution_count": 2,
   "metadata": {},
   "outputs": [],
   "source": [
    "Brain_region = ['AI','BA11','BA25','BA89','Nac','Sb']\n",
    "\n",
    "num_test = [10,50,100,200,300,400,500,600,700,800,900] #number of top ranking DEG\n",
    "\n",
    "AI_overlap = [None]*len(num_test)\n",
    "BA11_overlap = [None]*len(num_test)\n",
    "BA25_overlap = [None]*len(num_test)\n",
    "BA89_overlap = [None]*len(num_test)\n",
    "Nac_overlap = [None]*len(num_test)\n",
    "Sb_overlap = [None]*len(num_test)\n"
   ]
  },
  {
   "cell_type": "code",
   "execution_count": 3,
   "metadata": {},
   "outputs": [],
   "source": [
    "for i in range(len(num_test)):\n",
    "    num_sig = num_test[i]\n",
    "    xlsx_file = pd.ExcelFile('MaleDEG.xlsx')\n",
    "    DEG_data = xlsx_file.parse('hMale DEG ')\n",
    "    AI_ind = DEG_data.index[DEG_data['Brain Region'] == 'Anterior Insula'].tolist()\n",
    "    BA11_ind = DEG_data.index[DEG_data['Brain Region'] == 'BA11'].tolist()\n",
    "    BA25_ind = DEG_data.index[DEG_data['Brain Region'] == 'BA25'].tolist()\n",
    "    BA89_ind = DEG_data.index[DEG_data['Brain Region'] == 'BA8/9'].tolist()\n",
    "    Nac_ind = DEG_data.index[DEG_data['Brain Region'] == 'Nac'].tolist()\n",
    "    Sb_ind = DEG_data.index[DEG_data['Brain Region'] == 'Subic'].tolist()\n",
    "    AI = DEG_data.iloc[AI_ind]\n",
    "    BA11 = DEG_data.iloc[BA11_ind]\n",
    "    BA25 = DEG_data.iloc[BA25_ind]\n",
    "    BA89 = DEG_data.iloc[BA89_ind]\n",
    "    Nac = DEG_data.iloc[Nac_ind]\n",
    "    Sb = DEG_data.iloc[Sb_ind]\n",
    "\n",
    "\n",
    "    regionlist = ['AI']*num_sig + ['BA11']*num_sig+ ['BA25']*num_sig + ['BA89']*num_sig + ['Nac']*num_sig + ['Sb']*num_sig\n",
    "    AI_sort_M = AI.sort_values(by=['p-value']).iloc[0:num_sig]\n",
    "    BA11_sort_M = BA11.sort_values(by=['p-value']).iloc[0:num_sig]\n",
    "    BA25_sort_M = BA25.sort_values(by=['p-value']).iloc[0:num_sig]\n",
    "    BA89_sort_M = BA89.sort_values(by=['p-value']).iloc[0:num_sig]\n",
    "    Nac_sort_M = Nac.sort_values(by=['p-value']).iloc[0:num_sig]\n",
    "    Sb_sort_M = Sb.sort_values(by=['p-value']).iloc[0:num_sig]\n",
    "\n",
    "    frames = [AI_sort_M ,BA11_sort_M ,BA25_sort_M ,BA89_sort_M ,Nac_sort_M ,Sb_sort_M]\n",
    "    male_topDEG = pd.concat(frames)\n",
    "\n",
    "    xlsx_file = pd.ExcelFile('FemaleDEG.xlsx')\n",
    "    DEG_data = xlsx_file.parse('hFemale DEG')\n",
    "    AI_ind = DEG_data.index[DEG_data['Brain Region'] == 'Anterior Insula'].tolist()\n",
    "    BA11_ind = DEG_data.index[DEG_data['Brain Region'] == 'BA11'].tolist()\n",
    "    BA25_ind = DEG_data.index[DEG_data['Brain Region'] == 'BA25'].tolist()\n",
    "    BA89_ind = DEG_data.index[DEG_data['Brain Region'] == 'BA8/9'].tolist()\n",
    "    Nac_ind = DEG_data.index[DEG_data['Brain Region'] == 'Nac'].tolist()\n",
    "    Sb_ind = DEG_data.index[DEG_data['Brain Region'] == 'Subic'].tolist()\n",
    "    AI = DEG_data.iloc[AI_ind]\n",
    "    BA11 = DEG_data.iloc[BA11_ind]\n",
    "    BA25 = DEG_data.iloc[BA25_ind]\n",
    "    BA89 = DEG_data.iloc[BA89_ind]\n",
    "    Nac = DEG_data.iloc[Nac_ind]\n",
    "    Sb = DEG_data.iloc[Sb_ind]\n",
    "    regionlist = ['AI']*num_sig + ['BA11']*num_sig+ ['BA25']*num_sig + ['BA89']*num_sig + ['Nac']*num_sig + ['Sb']*num_sig\n",
    "    AI_sort_F = AI.sort_values(by=['p-value']).iloc[0:num_sig]\n",
    "    BA11_sort_F = BA11.sort_values(by=['p-value']).iloc[0:num_sig]\n",
    "    BA25_sort_F = BA25.sort_values(by=['p-value']).iloc[0:num_sig]\n",
    "    BA89_sort_F = BA89.sort_values(by=['p-value']).iloc[0:num_sig]\n",
    "    Nac_sort_F = Nac.sort_values(by=['p-value']).iloc[0:num_sig]\n",
    "    Sb_sort_F = Sb.sort_values(by=['p-value']).iloc[0:num_sig]\n",
    "    frames = [AI_sort_F ,BA11_sort_F ,BA25_sort_F ,BA89_sort_F ,Nac_sort_F ,Sb_sort_F]\n",
    "    female_topDEG = pd.concat(frames)\n",
    "\n",
    "    AI_overlap[i]= len(set(AI_sort_M['Gene name'].tolist()) & set(AI_sort_F['Gene Name'].tolist()))\n",
    "    BA11_overlap[i]= len(set(BA11_sort_M['Gene name'].tolist()) & set(BA11_sort_F['Gene Name'].tolist()))\n",
    "    BA25_overlap[i]= len(set(BA25_sort_M['Gene name'].tolist()) & set(BA25_sort_F['Gene Name'].tolist()))\n",
    "    BA89_overlap[i]= len(set(BA89_sort_M['Gene name'].tolist()) & set(BA89_sort_F['Gene Name'].tolist()))\n",
    "    Nac_overlap[i]= len(set(Nac_sort_M['Gene name'].tolist()) & set(Nac_sort_F['Gene Name'].tolist()))\n",
    "    Sb_overlap[i]= len(set(Nac_sort_M['Gene name'].tolist()) & set(Sb_sort_F['Gene Name'].tolist()))\n"
   ]
  },
  {
   "cell_type": "code",
   "execution_count": 28,
   "metadata": {},
   "outputs": [
    {
     "data": {
      "text/plain": [
       "<matplotlib.legend.Legend at 0x2e829b4c8d0>"
      ]
     },
     "execution_count": 28,
     "metadata": {},
     "output_type": "execute_result"
    },
    {
     "data": {
      "image/png": "[encoded data removed]",
      "text/plain": [
       "<Figure size 432x288 with 1 Axes>"
      ]
     },
     "metadata": {
      "needs_background": "light"
     },
     "output_type": "display_data"
    }
   ],
   "source": [
    "plt.plot(num_test,AI_overlap,num_test,BA11_overlap,num_test,BA25_overlap,num_test,BA89_overlap,num_test,Nac_overlap,num_test,Sb_overlap)\n",
    "plt.xlabel('Number of Top Ranking DEG')\n",
    "plt.ylabel('Number of overlap')\n",
    "plt.legend(['AI','BA11','BA25','BA89','Nac','Sb'])"
   ]
  },
  {
   "cell_type": "code",
   "execution_count": 4,
   "metadata": {},
   "outputs": [
    {
     "name": "stdout",
     "output_type": "stream",
     "text": [
      "AI: 47\n",
      "BA11: 22\n",
      "BA25: 24\n",
      "BA89: 50\n",
      "Nac: 52\n",
      "Sb: 31\n"
     ]
    }
   ],
   "source": [
    "print('AI:' ,len(set(AI_sort_M['Gene name'].tolist()) & set(AI_sort_F['Gene Name'].tolist())))\n",
    "print('BA11:' ,len(set(BA11_sort_M['Gene name'].tolist()) & set(BA11_sort_F['Gene Name'].tolist())))\n",
    "print('BA25:' ,len(set(BA25_sort_M['Gene name'].tolist()) & set(BA25_sort_F['Gene Name'].tolist())))\n",
    "print('BA89:' ,len(set(BA89_sort_M['Gene name'].tolist()) & set(BA89_sort_F['Gene Name'].tolist())))\n",
    "print('Nac:' ,len(set(Nac_sort_M['Gene name'].tolist()) & set(Nac_sort_F['Gene Name'].tolist())))\n",
    "print('Sb:' ,len(set(Nac_sort_M['Gene name'].tolist()) & set(Sb_sort_F['Gene Name'].tolist())))"
   ]
  },
  {
   "cell_type": "code",
   "execution_count": 5,
   "metadata": {},
   "outputs": [
    {
     "data": {
      "text/plain": [
       "[0, 0, 0, 2, 6, 10, 18, 24, 33, 44, 47]"
      ]
     },
     "execution_count": 5,
     "metadata": {},
     "output_type": "execute_result"
    }
   ],
   "source": [
    "AI_overlap\n"
   ]
  },
  {
   "cell_type": "code",
   "execution_count": null,
   "metadata": {},
   "outputs": [],
   "source": []
  },
  {
   "cell_type": "code",
   "execution_count": null,
   "metadata": {},
   "outputs": [],
   "source": []
  },
  {
   "cell_type": "code",
   "execution_count": null,
   "metadata": {},
   "outputs": [],
   "source": []
  }
 ],
 "metadata": {
  "kernelspec": {
   "display_name": "Python 3",
   "language": "python",
   "name": "python3"
  },
  "language_info": {
   "codemirror_mode": {
    "name": "ipython",
    "version": 3
   },
   "file_extension": ".py",
   "mimetype": "text/x-python",
   "name": "python",
   "nbconvert_exporter": "python",
   "pygments_lexer": "ipython3",
   "version": "3.7.1"
  }
 },
 "nbformat": 4,
 "nbformat_minor": 2
}
